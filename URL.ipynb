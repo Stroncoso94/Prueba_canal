{
 "cells": [
  {
   "cell_type": "code",
   "execution_count": 14,
   "metadata": {},
   "outputs": [
    {
     "name": "stdout",
     "output_type": "stream",
     "text": [
      "Defaulting to user installation because normal site-packages is not writeable\n",
      "Note: you may need to restart the kernel to use updated packages.\n"
     ]
    },
    {
     "name": "stderr",
     "output_type": "stream",
     "text": [
      "ERROR: Could not find a version that satisfies the requirement os (from versions: none)\n",
      "ERROR: No matching distribution found for os\n",
      "WARNING: You are using pip version 21.2.4; however, version 22.2.2 is available.\n",
      "You should consider upgrading via the 'c:\\Program Files\\Python310\\python.exe -m pip install --upgrade pip' command.\n"
     ]
    }
   ],
   "source": [
    "#pip install urllib3\n",
    "#pip install os\n",
    "#pip install openpyxl"
   ]
  },
  {
   "cell_type": "code",
   "execution_count": 8,
   "metadata": {},
   "outputs": [],
   "source": [
    " bd_url = \"https://raw.githubusercontent.com/joanby/python-ml-course/master/datasets/athletes/downloaded_medals.csv\""
   ]
  },
  {
   "cell_type": "code",
   "execution_count": 15,
   "metadata": {},
   "outputs": [],
   "source": [
    "def downloadFromURL(url, filename, sep = \",\", delim = \"\\n\"):\n",
    "    \n",
    "    #Primero debemos abrir la librería URLLIB3, la cual permite extraer bases de datos desde una url\n",
    "    import urllib3\n",
    "    import pandas as pd\n",
    "    import os\n",
    "    \n",
    "    #1° Importaremos y realizaremos la conexión a la web de los datos \n",
    "    http = urllib3.PoolManager()\n",
    "    r = http.request(\"GET\", url)\n",
    "    response = r.data\n",
    "\n",
    "    #Se puede decofificar los datos binario a str con decode y usando valor \"utf-8\"\n",
    "    str_data = response.decode(\"utf-8\")\n",
    "\n",
    "    #Se debe separar los datos respecto a la tabulación que esta posea, en este caso el tabulador era \\n\n",
    "    data = str_data.split(delim)\n",
    "\n",
    "    #Luego se define cuales serán los nombre de las columnas y el largo de esta, para generar el diccionario {}\n",
    "    col_names = data[0].strip().split(sep)\n",
    "    n_col = len(col_names)\n",
    "\n",
    "    #Para generar el diccionario se requiere crear la variable counter con valor 0, de esta manera se irán agregando los valores\n",
    "    #y respecto a la cantidad de columnas enlazara a cada valor\n",
    "    main_dict = {}\n",
    "    for col in col_names:\n",
    "        main_dict[col] = []\n",
    "\n",
    "    #Para agregar las filas en las columnas debemos consider el contador en cero para que de este valor hasta el rango del\n",
    "    #diccionario, junto con considerar los valores mayores a 0 de la \"linea\" para que no consideré la cabecera de datos. Lo demás\n",
    "    # es igual, no considerar los espacios en blanco y separar por comas y que esto se vaya agregando en el rango i --> range\n",
    "    # finalmente se llama a que agrege al diccionario respecto a cada columna los valores de cada fila para que sume un valor al contador\n",
    "\n",
    "    counter = 0\n",
    "    for line in data:\n",
    "        if counter > 0 and len(line) > 0:\n",
    "            values = line.strip().split(sep)\n",
    "            for i in range(len(col_names)):\n",
    "                main_dict[col_names[i]].append(values[i])\n",
    "        counter +=1\n",
    "    print(\"El data set tiene %d filas y %d columnas\"%(counter, n_col))    \n",
    "\n",
    "    #Con pandas se puede transformar este diccionario en un df para su posterior descarga en algún formato que se necesite (csv,json, xlsx)\n",
    "    medals_df = pd.DataFrame(main_dict)\n",
    "    print(medals_df.head())\n",
    "\n",
    "    #Exportar base de datos\n",
    "    mainpath = \"/Users/stron/Jupyter/Machine_Learning/datasets/\"\n",
    "    #filename = \"athletes/downloaded_medals\"  \n",
    "    fullpath = os.path.join(mainpath, filename)\n",
    "\n",
    "    medals_df.to_csv(fullpath + \".csv\")\n",
    "    medals_df.to_json(fullpath + \".json\")\n",
    "    medals_df.to_excel(fullpath + \".xlsx\")\n",
    "    print(\"\\n Los ficheros se han guardado exitosamente en \" + fullpath)\n",
    "    \n",
    "    return"
   ]
  },
  {
   "cell_type": "code",
   "execution_count": 18,
   "metadata": {},
   "outputs": [
    {
     "name": "stdout",
     "output_type": "stream",
     "text": [
      "El data set tiene 2313 filas y 1 columnas\n",
      "  ,City,Discipline,Event,Event gender,Medal,NOC,Sport,Year\n",
      "0  0,Chamonix,Figure skating,individual,M,Silver,...      \n",
      "1  1,Chamonix,Figure skating,individual,W,Gold,AU...      \n",
      "2  2,Chamonix,Figure skating,pairs,X,Gold,AUT,Ska...      \n",
      "3  3,Chamonix,Bobsleigh,four-man,M,Bronze,BEL,Bob...      \n",
      "4  4,Chamonix,Ice Hockey,ice hockey,M,Gold,CAN,Ic...      \n",
      "\n",
      " Los ficheros se han guardado exitosamente en /Users/stron/Jupyter/Machine_Learning/datasets/athletes/ejemplo_downloaded_medals\n"
     ]
    }
   ],
   "source": [
    "downloadFromURL(bd_url, \"athletes/ejemplo_downloaded_medals\", \";\", \"\\n\")\n"
   ]
  }
 ],
 "metadata": {
  "kernelspec": {
   "display_name": "Python 3.10.1 64-bit",
   "language": "python",
   "name": "python3"
  },
  "language_info": {
   "codemirror_mode": {
    "name": "ipython",
    "version": 3
   },
   "file_extension": ".py",
   "mimetype": "text/x-python",
   "name": "python",
   "nbconvert_exporter": "python",
   "pygments_lexer": "ipython3",
   "version": "3.10.1"
  },
  "orig_nbformat": 4,
  "vscode": {
   "interpreter": {
    "hash": "26de051ba29f2982a8de78e945f0abaf191376122a1563185a90213a26c5da77"
   }
  }
 },
 "nbformat": 4,
 "nbformat_minor": 2
}
